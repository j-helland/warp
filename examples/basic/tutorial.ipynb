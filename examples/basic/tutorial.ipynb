{
 "cells": [
  {
   "cell_type": "markdown",
   "metadata": {},
   "source": [
    "# WARP Tutorial\n",
    "\n",
    "This notebook takes the pedagogy of learn by example, showing how to use WARP to organize your project's pipeline and keep track of hyperparameters therein."
   ]
  },
  {
   "cell_type": "code",
   "execution_count": 1,
   "metadata": {},
   "outputs": [],
   "source": [
    "%load_ext autoreload\n",
    "%autoreload 2"
   ]
  },
  {
   "cell_type": "markdown",
   "metadata": {},
   "source": [
    "# Declaring pipes\n",
    "\n",
    "The following cell(s) will show how to define a pipe that can be recognized by WARP.\n",
    "Pipes currently must be declared in external files (i.e. not within a notebook) with a strict one-pipe-per-file rule.\n",
    "\n",
    "This next cell shows the contents of the file `./example/A.py`, which defines an initial pipe for this pipeline.\n",
    "The following features of WARP are showcased:\n",
    "- **Parameters:** Parameters are intended to be tunable values necessary to reproduce a pipe's output (e.g. learning rate of a neural network). \n",
    "Parameters are limited to simple types (string, numeric types) as well as basic iterables (list, dict) containing simple types.\n",
    "The first argument of the `Parameter` constructor is always the parameter name and the keyword argument `default` can be passed to specify a default value.\n",
    "If no `default` argument is passed (e.g. `Parameter('text')`), then the parameter assumes the default value of the string equal to its name (concretely, the value contained in `Parameter('text')` is `'text'`).\n",
    "A parameter can be treated within `Main` like a variable containing the value that `Parameter` wraps.\n",
    "\n",
    "- **Parameter config files:** A config file for the pipe parameters can be specified using the `ParameterFile` class, which takes one string argument corresponding to the file path of the config file (relative to the working directory).\n",
    "This config file can be in yaml or json format -- the codeblock below shows a yaml example:\n",
    "```\n",
    "# contents of the file `config/A.yml`\n",
    "message: text_yaml\n",
    "```\n",
    "Parameters in the config file must have names that match their variable names (e.g. `message: text_yaml` will be matched to an attribute `message = Parameter(...)`).\n",
    "Config files can be used to override the default values for a parameter (in this case, we override the `message` string value `'text'` with `'text_yaml'`), thus you don't need to specify every parameter of the pipe if the default values suffice. \n",
    "All parameter values used at runtime are logged by WARP automatically.\n",
    "\n",
    "- **Product specification:** you must specify a pipe's products using the `Product` class, which takes one string argument corresponding to the file path for the product to be generated.\n",
    "You can treat instances of this object as the string it contains.\n",
    "The `Product` class accepts strings, lists, and dicts.\n",
    "\n",
    "- **Lazy imports:** the preference when declaring WARP pipes is to lazily import modules that are used within the pipe. You don't have to adhere to this rule of thumb, but doing so will significantly speedup the launching of sessions.\n",
    "`warp.utils.GlobalImport` provides a convenient way of doing lazy imports for your pipe, as shown in the next cell.\n",
    "Using `GlobalImport` will allow you to import any number of modules which will be available to any object within scope."
   ]
  },
  {
   "cell_type": "code",
   "execution_count": 2,
   "metadata": {},
   "outputs": [],
   "source": [
    "\"\"\"example/A.py\n",
    "\n",
    "Creates two output files `A1.txt` and `A2.txt` that both contain the value of the `message` parameter.\n",
    "The `message` parameter value is stored in the `config/A.yml` file.\n",
    "\"\"\"\n",
    "from warp import Pipe, Product, Parameter, ParameterFile\n",
    "from warp.utils import GlobalImport\n",
    "\n",
    "class Main(Pipe):\n",
    "    ### parameters\n",
    "    config_file = ParameterFile('config/A.yml')\n",
    "    message = Parameter('text')\n",
    "\n",
    "    ### products\n",
    "    products = Product([\n",
    "        'data/A1.txt', \n",
    "        'data/A2.txt'])\n",
    "\n",
    "    @staticmethod\n",
    "    def makedirs(path :str) -> None:\n",
    "        # `os` module is available due to GlobalImport\n",
    "        os.makedirs(path, exist_ok=True)\n",
    "\n",
    "    def run(self) -> None:\n",
    "        # lazy imports\n",
    "        with GlobalImport(globals()):\n",
    "            import os\n",
    "\n",
    "        self.makedirs('data')\n",
    "        for p in self.products:\n",
    "            with open(p, 'w') as f:\n",
    "                f.write(self.message)"
   ]
  },
  {
   "cell_type": "markdown",
   "metadata": {},
   "source": [
    "# Instantiating the graph"
   ]
  },
  {
   "cell_type": "code",
   "execution_count": 3,
   "metadata": {},
   "outputs": [],
   "source": [
    "from warp import PipeGraph, WorkSpace\n",
    "from example import A, B, C, D"
   ]
  },
  {
   "cell_type": "code",
   "execution_count": 4,
   "metadata": {},
   "outputs": [],
   "source": [
    "pg = PipeGraph()"
   ]
  },
  {
   "cell_type": "markdown",
   "metadata": {},
   "source": [
    "The next cell shows how external files can be included in a WARP pipeline.\n",
    "These kinds of nodes in the graph are considered source nodes from a flow perspective -- nodes with no parents.\n",
    "Note that source nodes are not a required component of a WARP pipeline, they are only a convenience for tracking externally generated data in your workflow.\n",
    "\n",
    "Intuitively, one only needs to specify a product with no pipe file and no parent_products.\n",
    "Here, we add a config file for a downstream pipe -- this is not necessary in practice since WARP will log parameter values later anyways."
   ]
  },
  {
   "cell_type": "code",
   "execution_count": 5,
   "metadata": {},
   "outputs": [],
   "source": [
    "pg.add(products='config/A.yml')"
   ]
  },
  {
   "cell_type": "markdown",
   "metadata": {},
   "source": [
    "Next, we can add a pipe to the graph that depends on the product of previous pipe (in this case, the source pipe).\n",
    "We only need to name a product in the `parent_products` argument that was generated by pipe already attached to the graph.\n",
    "Specifying a config file as a product \n",
    "\n",
    "Since a pipe's products are always specified locally using the `Product` class (as seen above), specifying them via the `products` argument to `pg.add` is unnecessary. \n",
    "The only reason to specify products redundantly is for verbosity purposes, which can be handy when developing a pipeline.\n",
    "\n",
    "- **Note:** specifying products at `PipeGraph` creation time can lead to excessive verbosity -- prefer implicit product specifications, similar to parameters."
   ]
  },
  {
   "cell_type": "code",
   "execution_count": 6,
   "metadata": {},
   "outputs": [],
   "source": [
    "pg.add(\n",
    "    parent_products='config/A.yml',\n",
    "    pipe=A)"
   ]
  },
  {
   "cell_type": "markdown",
   "metadata": {},
   "source": [
    "You can pass a module to the `parents` argument to automatically add all products of the pipe as dependencies.\n",
    "In this case, by passing `parents=A`, WARP adds `'data/A1.txt'` and `'data/A2.txt'` as dependencies of `B`."
   ]
  },
  {
   "cell_type": "code",
   "execution_count": 7,
   "metadata": {},
   "outputs": [],
   "source": [
    "pg.add(\n",
    "    parents=A,\n",
    "    pipe=B)"
   ]
  },
  {
   "cell_type": "markdown",
   "metadata": {},
   "source": [
    "Since all of a pipe's products are specified as attributes, we can directly pass them in to the `parent_products` argument.\n",
    "This allows us to exclude certain products of an upstream pipe that we don't need."
   ]
  },
  {
   "cell_type": "code",
   "execution_count": 8,
   "metadata": {},
   "outputs": [],
   "source": [
    "pg.add(\n",
    "    parent_products=A.Main.products[1],  # data/A2.txt\n",
    "    pipe=C)"
   ]
  },
  {
   "cell_type": "markdown",
   "metadata": {},
   "source": [
    "**Note:** terminal pipes in the pipeline don't have to have products -- this is a choice left to the user.\n",
    "Here, we indicate optionality using the commented line."
   ]
  },
  {
   "cell_type": "code",
   "execution_count": 9,
   "metadata": {},
   "outputs": [],
   "source": [
    "pg.add(\n",
    "    parents=[A, C],\n",
    "    pipe=D)"
   ]
  },
  {
   "cell_type": "code",
   "execution_count": 10,
   "metadata": {},
   "outputs": [],
   "source": [
    "ws = WorkSpace(\n",
    "    pathgraph=pg,\n",
    "    config_dir='./config')"
   ]
  },
  {
   "cell_type": "markdown",
   "metadata": {},
   "source": [
    "To make sure that we're working in a fresh environment, we can clear the cache.\n",
    "You can clear all workspace sessions by passing the `clear_all=True` flag.\n",
    "You can clear the cache for a particular session by passing its id number (e.g. `ws.clear_cache(0)`)."
   ]
  },
  {
   "cell_type": "code",
   "execution_count": 11,
   "metadata": {},
   "outputs": [
    {
     "data": {
      "text/html": [
       "<pre style=\"white-space:pre;overflow-x:auto;line-height:normal;font-family:Menlo,'DejaVu Sans Mono',consolas,'Courier New',monospace\">Deleting cache <span style=\"color: #000080; font-weight: bold\">.warp</span>\n",
       "Resetting...\n",
       "</pre>\n"
      ],
      "text/plain": [
       "<rich.jupyter.JupyterRenderable at 0x11e6aa6a0>"
      ]
     },
     "metadata": {},
     "output_type": "display_data"
    },
    {
     "data": {
      "text/html": [
       "<pre style=\"white-space:pre;overflow-x:auto;line-height:normal;font-family:Menlo,'DejaVu Sans Mono',consolas,'Courier New',monospace\">Starting new session with id <span style=\"color: #000080; font-weight: bold\">0</span>\n",
       "</pre>\n"
      ],
      "text/plain": [
       "<rich.jupyter.JupyterRenderable at 0x10f643e10>"
      ]
     },
     "metadata": {},
     "output_type": "display_data"
    },
    {
     "name": "stderr",
     "output_type": "stream",
     "text": [
      "/Users/jwhelland/Documents/work/repos/warp/warp/home.py:15: UserWarning: home /Users/jwhelland/Documents/work/repos/warp/example/.warp not found, creating...\n",
      "  warnings.warn('home {:s} not found, creating...'.format(os.path.abspath(self.path)))\n",
      "/Users/jwhelland/Documents/work/repos/warp/warp/home.py:28: UserWarning: no session with id 0 found, creating...\n",
      "  warnings.warn('no session with id {} found, creating...'.format(self.session_id))\n"
     ]
    },
    {
     "data": {
      "text/html": [
       "<pre style=\"white-space:pre;overflow-x:auto;line-height:normal;font-family:Menlo,'DejaVu Sans Mono',consolas,'Courier New',monospace\">Session .warp/<span style=\"color: #000080; font-weight: bold\">0</span> created\n",
       "</pre>\n"
      ],
      "text/plain": [
       "<rich.jupyter.JupyterRenderable at 0x10dd639e8>"
      ]
     },
     "metadata": {},
     "output_type": "display_data"
    }
   ],
   "source": [
    "ws.clear_cache(clear_all=True)"
   ]
  },
  {
   "cell_type": "markdown",
   "metadata": {},
   "source": [
    "# Visualizing the graph\n",
    "\n",
    "We can visually inspect the graph we built using `view`. This can let us check for discrepencies in the graph at a glance.\n",
    "\n",
    "The `__source__` pipe corresponds to the external artifact that we attached using `pg.add(products='config/A.yml')`.\n",
    "\n",
    "Notice that `B` is a terminal node -- pipes `C` and `D` do not depend on this pipe in any way."
   ]
  },
  {
   "cell_type": "code",
   "execution_count": 12,
   "metadata": {},
   "outputs": [
    {
     "data": {
      "image/png": "[encoded data removed]",
      "text/plain": [
       "<Figure size 432x288 with 1 Axes>"
      ]
     },
     "metadata": {
      "needs_background": "light"
     },
     "output_type": "display_data"
    }
   ],
   "source": [
    "ws.show()"
   ]
  },
  {
   "cell_type": "markdown",
   "metadata": {},
   "source": [
    "You can get a view that is more verbose (i.e. provides relative paths for everything):"
   ]
  },
  {
   "cell_type": "code",
   "execution_count": 13,
   "metadata": {},
   "outputs": [
    {
     "data": {
      "image/png": "[encoded data removed]",
      "text/plain": [
       "<Figure size 432x288 with 1 Axes>"
      ]
     },
     "metadata": {
      "needs_background": "light"
     },
     "output_type": "display_data"
    }
   ],
   "source": [
    "ws.show(verbose=True)"
   ]
  },
  {
   "cell_type": "markdown",
   "metadata": {},
   "source": [
    "# Running pipes in the graph\n",
    "\n",
    "Now that we've defined our graph and instantiated our workspace, we're ready to start running pipes."
   ]
  },
  {
   "cell_type": "code",
   "execution_count": 14,
   "metadata": {},
   "outputs": [
    {
     "data": {
      "text/plain": [
       "['PG',\n",
       " 'accepted_config_ext',\n",
       " 'backfill',\n",
       " 'build',\n",
       " 'clear_cache',\n",
       " 'config_dir',\n",
       " 'configs',\n",
       " 'create_session',\n",
       " 'home',\n",
       " 'list_parameters',\n",
       " 'load_external_parameters',\n",
       " 'load_session',\n",
       " 'methods',\n",
       " 'pipes',\n",
       " 'sessions',\n",
       " 'show',\n",
       " 'status',\n",
       " 'view',\n",
       " 'view_pipe']"
      ]
     },
     "execution_count": 14,
     "metadata": {},
     "output_type": "execute_result"
    }
   ],
   "source": [
    "ws.methods"
   ]
  },
  {
   "cell_type": "code",
   "execution_count": 15,
   "metadata": {},
   "outputs": [
    {
     "data": {
      "text/plain": [
       "NodeView(('__source__', 'example.A', 'example.B', 'example.C', 'example.D'))"
      ]
     },
     "execution_count": 15,
     "metadata": {},
     "output_type": "execute_result"
    }
   ],
   "source": [
    "ws.pipes"
   ]
  },
  {
   "cell_type": "markdown",
   "metadata": {},
   "source": [
    "We can view the source code of a pipe using `ws.view_pipe(...)`.\n",
    "Notice that this matches the example pipe declaration code written in the cell above. "
   ]
  },
  {
   "cell_type": "code",
   "execution_count": 16,
   "metadata": {},
   "outputs": [
    {
     "data": {
      "text/html": [
       "<pre style=\"white-space:pre;overflow-x:auto;line-height:normal;font-family:Menlo,'DejaVu Sans Mono',consolas,'Courier New',monospace\">   1 <span style=\"color: #66d9ef; background-color: #272822\">class</span><span style=\"color: #f8f8f2; background-color: #272822\"> </span><span style=\"color: #a6e22e; background-color: #272822\">Main</span><span style=\"color: #f8f8f2; background-color: #272822\">(Pipe):</span><span style=\"background-color: #272822\">                                                                       </span>\n",
       "   2 <span style=\"color: #f8f8f2; background-color: #272822\">    __slots__ </span><span style=\"color: #f92672; background-color: #272822\">=</span><span style=\"color: #f8f8f2; background-color: #272822\"> ()</span><span style=\"background-color: #272822\">                                                                      </span>\n",
       "   3 <span style=\"background-color: #272822\">                                                                                        </span>\n",
       "   4 <span style=\"color: #f8f8f2; background-color: #272822\">    </span><span style=\"color: #75715e; background-color: #272822\">### parameters</span><span style=\"background-color: #272822\">                                                                      </span>\n",
       "   5 <span style=\"color: #f8f8f2; background-color: #272822\">    config_file </span><span style=\"color: #f92672; background-color: #272822\">=</span><span style=\"color: #f8f8f2; background-color: #272822\"> ParameterFile(</span><span style=\"color: #e6db74; background-color: #272822\">'config/A.yml'</span><span style=\"color: #f8f8f2; background-color: #272822\">)</span><span style=\"background-color: #272822\">                                         </span>\n",
       "   6 <span style=\"color: #f8f8f2; background-color: #272822\">    message </span><span style=\"color: #f92672; background-color: #272822\">=</span><span style=\"color: #f8f8f2; background-color: #272822\"> Parameter(</span><span style=\"color: #e6db74; background-color: #272822\">'text'</span><span style=\"color: #f8f8f2; background-color: #272822\">)</span><span style=\"background-color: #272822\">                                                         </span>\n",
       "   7 <span style=\"background-color: #272822\">                                                                                        </span>\n",
       "   8 <span style=\"color: #f8f8f2; background-color: #272822\">    </span><span style=\"color: #75715e; background-color: #272822\">### products</span><span style=\"background-color: #272822\">                                                                        </span>\n",
       "   9 <span style=\"color: #f8f8f2; background-color: #272822\">    products </span><span style=\"color: #f92672; background-color: #272822\">=</span><span style=\"color: #f8f8f2; background-color: #272822\"> Product([</span><span style=\"background-color: #272822\">                                                                </span>\n",
       "  10 <span style=\"color: #f8f8f2; background-color: #272822\">        </span><span style=\"color: #e6db74; background-color: #272822\">'data/A1.txt'</span><span style=\"color: #f8f8f2; background-color: #272822\">, </span><span style=\"background-color: #272822\">                                                                 </span>\n",
       "  11 <span style=\"color: #f8f8f2; background-color: #272822\">        </span><span style=\"color: #e6db74; background-color: #272822\">'data/A2.txt'</span><span style=\"color: #f8f8f2; background-color: #272822\">])</span><span style=\"background-color: #272822\">                                                                 </span>\n",
       "  12 <span style=\"background-color: #272822\">                                                                                        </span>\n",
       "  13 <span style=\"color: #f8f8f2; background-color: #272822\">    </span><span style=\"color: #a6e22e; background-color: #272822\">@staticmethod</span><span style=\"background-color: #272822\">                                                                       </span>\n",
       "  14 <span style=\"color: #f8f8f2; background-color: #272822\">    </span><span style=\"color: #66d9ef; background-color: #272822\">def</span><span style=\"color: #f8f8f2; background-color: #272822\"> </span><span style=\"color: #a6e22e; background-color: #272822\">makedirs</span><span style=\"color: #f8f8f2; background-color: #272822\">(path :str) </span><span style=\"color: #f92672; background-color: #272822\">-&gt;</span><span style=\"color: #f8f8f2; background-color: #272822\"> </span><span style=\"color: #66d9ef; background-color: #272822\">None</span><span style=\"color: #f8f8f2; background-color: #272822\">:</span><span style=\"background-color: #272822\">                                                    </span>\n",
       "  15 <span style=\"color: #f8f8f2; background-color: #272822\">        os</span><span style=\"color: #f92672; background-color: #272822\">.</span><span style=\"color: #f8f8f2; background-color: #272822\">makedirs(path, exist_ok</span><span style=\"color: #f92672; background-color: #272822\">=</span><span style=\"color: #66d9ef; background-color: #272822\">True</span><span style=\"color: #f8f8f2; background-color: #272822\">)</span><span style=\"background-color: #272822\">                                                </span>\n",
       "  16 <span style=\"background-color: #272822\">                                                                                        </span>\n",
       "  17 <span style=\"color: #f8f8f2; background-color: #272822\">    </span><span style=\"color: #66d9ef; background-color: #272822\">def</span><span style=\"color: #f8f8f2; background-color: #272822\"> </span><span style=\"color: #a6e22e; background-color: #272822\">run</span><span style=\"color: #f8f8f2; background-color: #272822\">(self) </span><span style=\"color: #f92672; background-color: #272822\">-&gt;</span><span style=\"color: #f8f8f2; background-color: #272822\"> </span><span style=\"color: #66d9ef; background-color: #272822\">None</span><span style=\"color: #f8f8f2; background-color: #272822\">:</span><span style=\"background-color: #272822\">                                                              </span>\n",
       "  18 <span style=\"color: #f8f8f2; background-color: #272822\">        </span><span style=\"color: #66d9ef; background-color: #272822\">with</span><span style=\"color: #f8f8f2; background-color: #272822\"> GlobalImport(globals()):</span><span style=\"background-color: #272822\">                                                   </span>\n",
       "  19 <span style=\"color: #f8f8f2; background-color: #272822\">            </span><span style=\"color: #f92672; background-color: #272822\">import</span><span style=\"color: #f8f8f2; background-color: #272822\"> os</span><span style=\"background-color: #272822\">                                                                   </span>\n",
       "  20 <span style=\"background-color: #272822\">                                                                                        </span>\n",
       "  21 <span style=\"color: #f8f8f2; background-color: #272822\">        self</span><span style=\"color: #f92672; background-color: #272822\">.</span><span style=\"color: #f8f8f2; background-color: #272822\">makedirs(</span><span style=\"color: #e6db74; background-color: #272822\">'data'</span><span style=\"color: #f8f8f2; background-color: #272822\">)</span><span style=\"background-color: #272822\">                                                           </span>\n",
       "  22 <span style=\"color: #f8f8f2; background-color: #272822\">        </span><span style=\"color: #66d9ef; background-color: #272822\">for</span><span style=\"color: #f8f8f2; background-color: #272822\"> p </span><span style=\"color: #f92672; background-color: #272822\">in</span><span style=\"color: #f8f8f2; background-color: #272822\"> self</span><span style=\"color: #f92672; background-color: #272822\">.</span><span style=\"color: #f8f8f2; background-color: #272822\">products:</span><span style=\"background-color: #272822\">                                                         </span>\n",
       "  23 <span style=\"color: #f8f8f2; background-color: #272822\">            </span><span style=\"color: #66d9ef; background-color: #272822\">with</span><span style=\"color: #f8f8f2; background-color: #272822\"> open(p, </span><span style=\"color: #e6db74; background-color: #272822\">'w'</span><span style=\"color: #f8f8f2; background-color: #272822\">) </span><span style=\"color: #66d9ef; background-color: #272822\">as</span><span style=\"color: #f8f8f2; background-color: #272822\"> f:</span><span style=\"background-color: #272822\">                                                     </span>\n",
       "  24 <span style=\"color: #f8f8f2; background-color: #272822\">                f</span><span style=\"color: #f92672; background-color: #272822\">.</span><span style=\"color: #f8f8f2; background-color: #272822\">write(self</span><span style=\"color: #f92672; background-color: #272822\">.</span><span style=\"color: #f8f8f2; background-color: #272822\">message)</span><span style=\"background-color: #272822\">                                                   </span>\n",
       "</pre>\n"
      ],
      "text/plain": [
       "<rich.jupyter.JupyterRenderable at 0x11f7c4518>"
      ]
     },
     "metadata": {},
     "output_type": "display_data"
    }
   ],
   "source": [
    "ws.view_pipe('A')"
   ]
  },
  {
   "cell_type": "markdown",
   "metadata": {},
   "source": [
    "We want to get the products of the `example.D` pipe but we don't want to think about which pipes we need to run in which order to get there (e.g. `example.B` is not necessary for `example.D`).\n",
    "We also don't want to remember which of the intermediate pipes we might need to rerun to preserve data provenance.\n",
    "This is the core functionality of WARP; we can use the `backfill` operation to find the ordered sequence of pipes that need to be rerun.\n",
    "Critically, WARP will only include a pipe in this sequence if an upstream pipe has been run more recently.\n",
    "\n",
    "When we run `ws.backfill('D')` in the following cell, we haven't actually run any of the pipes before, so WARP will choose the build sequence `A -> B -> C -> D`."
   ]
  },
  {
   "cell_type": "code",
   "execution_count": 17,
   "metadata": {},
   "outputs": [
    {
     "data": {
      "text/html": [
       "<pre style=\"white-space:pre;overflow-x:auto;line-height:normal;font-family:Menlo,'DejaVu Sans Mono',consolas,'Courier New',monospace\"><span style=\"font-weight: bold\">Build trajectory:</span>  <span style=\"color: #808000; font-weight: bold\">__source__</span> <span style=\"font-weight: bold\">-&gt;</span> <span style=\"color: #808000; font-weight: bold\">example.A</span> <span style=\"font-weight: bold\">-&gt;</span> <span style=\"color: #808000; font-weight: bold\">example.C</span> <span style=\"font-weight: bold\">-&gt;</span> <span style=\"color: #808000; font-weight: bold\">example.D</span>\n",
       "</pre>\n"
      ],
      "text/plain": [
       "<rich.jupyter.JupyterRenderable at 0x120125470>"
      ]
     },
     "metadata": {},
     "output_type": "display_data"
    },
    {
     "data": {
      "text/html": [
       "<pre style=\"white-space:pre;overflow-x:auto;line-height:normal;font-family:Menlo,'DejaVu Sans Mono',consolas,'Courier New',monospace\">\n",
       "\n",
       "Building pipe <span style=\"font-weight: bold\">__source__</span>\n",
       "</pre>\n"
      ],
      "text/plain": [
       "<rich.jupyter.JupyterRenderable at 0x120121780>"
      ]
     },
     "metadata": {},
     "output_type": "display_data"
    },
    {
     "data": {
      "text/html": [
       "<pre style=\"white-space:pre;overflow-x:auto;line-height:normal;font-family:Menlo,'DejaVu Sans Mono',consolas,'Courier New',monospace\"><span style=\"font-weight: bold\">-------------------------------------------</span>\n",
       "</pre>\n"
      ],
      "text/plain": [
       "<rich.jupyter.JupyterRenderable at 0x1201255f8>"
      ]
     },
     "metadata": {},
     "output_type": "display_data"
    },
    {
     "data": {
      "text/html": [
       "<pre style=\"white-space:pre;overflow-x:auto;line-height:normal;font-family:Menlo,'DejaVu Sans Mono',consolas,'Courier New',monospace\"><span style=\"font-weight: bold\">-------------------------------------------</span>\n",
       "</pre>\n"
      ],
      "text/plain": [
       "<rich.jupyter.JupyterRenderable at 0x1201215f8>"
      ]
     },
     "metadata": {},
     "output_type": "display_data"
    },
    {
     "data": {
      "text/html": [
       "<pre style=\"white-space:pre;overflow-x:auto;line-height:normal;font-family:Menlo,'DejaVu Sans Mono',consolas,'Courier New',monospace\"><span style=\"color: #008000; font-weight: bold\">Succeeded</span> | Elapsed time: <span style=\"color: #000080; font-weight: bold\">0.0000</span><span style=\"font-weight: bold\">(</span>s<span style=\"font-weight: bold\">)</span>\n",
       "</pre>\n"
      ],
      "text/plain": [
       "<rich.jupyter.JupyterRenderable at 0x120121240>"
      ]
     },
     "metadata": {},
     "output_type": "display_data"
    },
    {
     "data": {
      "text/html": [
       "<pre style=\"white-space:pre;overflow-x:auto;line-height:normal;font-family:Menlo,'DejaVu Sans Mono',consolas,'Courier New',monospace\">\n",
       "\n",
       "Building pipe <span style=\"font-weight: bold\">example.A</span>\n",
       "</pre>\n"
      ],
      "text/plain": [
       "<rich.jupyter.JupyterRenderable at 0x120123b00>"
      ]
     },
     "metadata": {},
     "output_type": "display_data"
    },
    {
     "data": {
      "text/html": [
       "<pre style=\"white-space:pre;overflow-x:auto;line-height:normal;font-family:Menlo,'DejaVu Sans Mono',consolas,'Courier New',monospace\"><span style=\"font-weight: bold\">-------------------------------------------</span>\n",
       "</pre>\n"
      ],
      "text/plain": [
       "<rich.jupyter.JupyterRenderable at 0x122387d30>"
      ]
     },
     "metadata": {},
     "output_type": "display_data"
    },
    {
     "data": {
      "text/html": [
       "<pre style=\"white-space:pre;overflow-x:auto;line-height:normal;font-family:Menlo,'DejaVu Sans Mono',consolas,'Courier New',monospace\"><span style=\"font-weight: bold\">-------------------------------------------</span>\n",
       "</pre>\n"
      ],
      "text/plain": [
       "<rich.jupyter.JupyterRenderable at 0x1222a6c88>"
      ]
     },
     "metadata": {},
     "output_type": "display_data"
    },
    {
     "data": {
      "text/html": [
       "<pre style=\"white-space:pre;overflow-x:auto;line-height:normal;font-family:Menlo,'DejaVu Sans Mono',consolas,'Courier New',monospace\"><span style=\"color: #008000; font-weight: bold\">Succeeded</span> | Elapsed time: <span style=\"color: #000080; font-weight: bold\">0.0350</span><span style=\"font-weight: bold\">(</span>s<span style=\"font-weight: bold\">)</span>\n",
       "</pre>\n"
      ],
      "text/plain": [
       "<rich.jupyter.JupyterRenderable at 0x120121048>"
      ]
     },
     "metadata": {},
     "output_type": "display_data"
    },
    {
     "data": {
      "text/html": [
       "<pre style=\"white-space:pre;overflow-x:auto;line-height:normal;font-family:Menlo,'DejaVu Sans Mono',consolas,'Courier New',monospace\">\n",
       "\n",
       "Building pipe <span style=\"font-weight: bold\">example.C</span>\n",
       "</pre>\n"
      ],
      "text/plain": [
       "<rich.jupyter.JupyterRenderable at 0x12255afd0>"
      ]
     },
     "metadata": {},
     "output_type": "display_data"
    },
    {
     "data": {
      "text/html": [
       "<pre style=\"white-space:pre;overflow-x:auto;line-height:normal;font-family:Menlo,'DejaVu Sans Mono',consolas,'Courier New',monospace\"><span style=\"font-weight: bold\">-------------------------------------------</span>\n",
       "</pre>\n"
      ],
      "text/plain": [
       "<rich.jupyter.JupyterRenderable at 0x12255af28>"
      ]
     },
     "metadata": {},
     "output_type": "display_data"
    },
    {
     "name": "stdout",
     "output_type": "stream",
     "text": [
      "main() in /Users/jwhelland/Documents/work/repos/warp/example/example/C.py\n"
     ]
    },
    {
     "data": {
      "text/html": [
       "<pre style=\"white-space:pre;overflow-x:auto;line-height:normal;font-family:Menlo,'DejaVu Sans Mono',consolas,'Courier New',monospace\"><span style=\"font-weight: bold\">-------------------------------------------</span>\n",
       "</pre>\n"
      ],
      "text/plain": [
       "<rich.jupyter.JupyterRenderable at 0x120121048>"
      ]
     },
     "metadata": {},
     "output_type": "display_data"
    },
    {
     "data": {
      "text/html": [
       "<pre style=\"white-space:pre;overflow-x:auto;line-height:normal;font-family:Menlo,'DejaVu Sans Mono',consolas,'Courier New',monospace\"><span style=\"color: #008000; font-weight: bold\">Succeeded</span> | Elapsed time: <span style=\"color: #000080; font-weight: bold\">0.0301</span><span style=\"font-weight: bold\">(</span>s<span style=\"font-weight: bold\">)</span>\n",
       "</pre>\n"
      ],
      "text/plain": [
       "<rich.jupyter.JupyterRenderable at 0x1222a6c88>"
      ]
     },
     "metadata": {},
     "output_type": "display_data"
    },
    {
     "data": {
      "text/html": [
       "<pre style=\"white-space:pre;overflow-x:auto;line-height:normal;font-family:Menlo,'DejaVu Sans Mono',consolas,'Courier New',monospace\">\n",
       "\n",
       "Building pipe <span style=\"font-weight: bold\">example.D</span>\n",
       "</pre>\n"
      ],
      "text/plain": [
       "<rich.jupyter.JupyterRenderable at 0x12255ad30>"
      ]
     },
     "metadata": {},
     "output_type": "display_data"
    },
    {
     "data": {
      "text/html": [
       "<pre style=\"white-space:pre;overflow-x:auto;line-height:normal;font-family:Menlo,'DejaVu Sans Mono',consolas,'Courier New',monospace\"><span style=\"font-weight: bold\">-------------------------------------------</span>\n",
       "</pre>\n"
      ],
      "text/plain": [
       "<rich.jupyter.JupyterRenderable at 0x12255ad30>"
      ]
     },
     "metadata": {},
     "output_type": "display_data"
    },
    {
     "data": {
      "text/html": [
       "<pre style=\"white-space:pre;overflow-x:auto;line-height:normal;font-family:Menlo,'DejaVu Sans Mono',consolas,'Courier New',monospace\"><span style=\"font-weight: bold\">-------------------------------------------</span>\n",
       "</pre>\n"
      ],
      "text/plain": [
       "<rich.jupyter.JupyterRenderable at 0x12255ad30>"
      ]
     },
     "metadata": {},
     "output_type": "display_data"
    },
    {
     "data": {
      "text/html": [
       "<pre style=\"white-space:pre;overflow-x:auto;line-height:normal;font-family:Menlo,'DejaVu Sans Mono',consolas,'Courier New',monospace\"><span style=\"color: #008000; font-weight: bold\">Succeeded</span> | Elapsed time: <span style=\"color: #000080; font-weight: bold\">0.0004</span><span style=\"font-weight: bold\">(</span>s<span style=\"font-weight: bold\">)</span>\n",
       "</pre>\n"
      ],
      "text/plain": [
       "<rich.jupyter.JupyterRenderable at 0x12255ae80>"
      ]
     },
     "metadata": {},
     "output_type": "display_data"
    },
    {
     "name": "stdout",
     "output_type": "stream",
     "text": [
      "CPU times: user 464 ms, sys: 80.8 ms, total: 545 ms\n",
      "Wall time: 608 ms\n"
     ]
    }
   ],
   "source": [
    "%%time\n",
    "ws.backfill('D')"
   ]
  },
  {
   "cell_type": "markdown",
   "metadata": {},
   "source": [
    "When we ran `backfill` on the pipe `D`, WARP automatically detected that the ancestral pipes of `D` were out of sync (in this case, they had never been built).\n",
    "In this case, WARP noticed that `D` has no dependency on `B`, so `B` was left unbuilt.\n",
    "We can confirm this by checking the `status` of `B`."
   ]
  },
  {
   "cell_type": "code",
   "execution_count": 18,
   "metadata": {},
   "outputs": [
    {
     "data": {
      "text/html": [
       "<pre style=\"white-space:pre;overflow-x:auto;line-height:normal;font-family:Menlo,'DejaVu Sans Mono',consolas,'Courier New',monospace\">Session <span style=\"color: #000080; font-weight: bold\">0</span> | pipe <span style=\"font-weight: bold\">example.B</span>\n",
       "</pre>\n"
      ],
      "text/plain": [
       "<rich.jupyter.JupyterRenderable at 0x1226527f0>"
      ]
     },
     "metadata": {},
     "output_type": "display_data"
    },
    {
     "data": {
      "text/html": [
       "<pre style=\"white-space:pre;overflow-x:auto;line-height:normal;font-family:Menlo,'DejaVu Sans Mono',consolas,'Courier New',monospace\">----------------------------\n",
       "</pre>\n"
      ],
      "text/plain": [
       "<rich.jupyter.JupyterRenderable at 0x122652898>"
      ]
     },
     "metadata": {},
     "output_type": "display_data"
    },
    {
     "data": {
      "text/html": [
       "<pre style=\"white-space:pre;overflow-x:auto;line-height:normal;font-family:Menlo,'DejaVu Sans Mono',consolas,'Courier New',monospace\"><span style=\"font-weight: bold\">Lineage:</span>                             <span style=\"color: #008000; font-weight: bold\">__source__</span> <span style=\"font-weight: bold\">-&gt;</span> <span style=\"color: #008000; font-weight: bold\">example.A</span> <span style=\"font-weight: bold\">-&gt;</span> <span style=\"color: #800000; font-weight: bold\">example.B</span>\n",
       "</pre>\n"
      ],
      "text/plain": [
       "<rich.jupyter.JupyterRenderable at 0x11f7c4518>"
      ]
     },
     "metadata": {},
     "output_type": "display_data"
    },
    {
     "data": {
      "text/html": [
       "<pre style=\"white-space:pre;overflow-x:auto;line-height:normal;font-family:Menlo,'DejaVu Sans Mono',consolas,'Courier New',monospace\">Pipe <span style=\"font-weight: bold\">example.B</span> has not been built\n",
       "</pre>\n"
      ],
      "text/plain": [
       "<rich.jupyter.JupyterRenderable at 0x12011fd68>"
      ]
     },
     "metadata": {},
     "output_type": "display_data"
    }
   ],
   "source": [
    "ws.status('B')"
   ]
  },
  {
   "cell_type": "markdown",
   "metadata": {},
   "source": [
    "The `backfill` function is idempotent -- running backfill again does nothing."
   ]
  },
  {
   "cell_type": "code",
   "execution_count": 19,
   "metadata": {},
   "outputs": [
    {
     "data": {
      "text/html": [
       "<pre style=\"white-space:pre;overflow-x:auto;line-height:normal;font-family:Menlo,'DejaVu Sans Mono',consolas,'Courier New',monospace\">All relevant ancestors are up to date, running `build<span style=\"font-weight: bold\">(</span><span style=\"color: #008000\">'example.D'</span><span style=\"font-weight: bold\">)</span>`\n",
       "</pre>\n"
      ],
      "text/plain": [
       "<rich.jupyter.JupyterRenderable at 0x12255add8>"
      ]
     },
     "metadata": {},
     "output_type": "display_data"
    },
    {
     "data": {
      "text/html": [
       "<pre style=\"white-space:pre;overflow-x:auto;line-height:normal;font-family:Menlo,'DejaVu Sans Mono',consolas,'Courier New',monospace\">\n",
       "\n",
       "Building pipe <span style=\"font-weight: bold\">example.D</span>\n",
       "</pre>\n"
      ],
      "text/plain": [
       "<rich.jupyter.JupyterRenderable at 0x12255add8>"
      ]
     },
     "metadata": {},
     "output_type": "display_data"
    },
    {
     "data": {
      "text/html": [
       "<pre style=\"white-space:pre;overflow-x:auto;line-height:normal;font-family:Menlo,'DejaVu Sans Mono',consolas,'Courier New',monospace\"><span style=\"font-weight: bold\">-------------------------------------------</span>\n",
       "</pre>\n"
      ],
      "text/plain": [
       "<rich.jupyter.JupyterRenderable at 0x12255add8>"
      ]
     },
     "metadata": {},
     "output_type": "display_data"
    },
    {
     "data": {
      "text/html": [
       "<pre style=\"white-space:pre;overflow-x:auto;line-height:normal;font-family:Menlo,'DejaVu Sans Mono',consolas,'Courier New',monospace\"><span style=\"font-weight: bold\">-------------------------------------------</span>\n",
       "</pre>\n"
      ],
      "text/plain": [
       "<rich.jupyter.JupyterRenderable at 0x12255add8>"
      ]
     },
     "metadata": {},
     "output_type": "display_data"
    },
    {
     "data": {
      "text/html": [
       "<pre style=\"white-space:pre;overflow-x:auto;line-height:normal;font-family:Menlo,'DejaVu Sans Mono',consolas,'Courier New',monospace\"><span style=\"color: #008000; font-weight: bold\">Succeeded</span> | Elapsed time: <span style=\"color: #000080; font-weight: bold\">0.0003</span><span style=\"font-weight: bold\">(</span>s<span style=\"font-weight: bold\">)</span>\n",
       "</pre>\n"
      ],
      "text/plain": [
       "<rich.jupyter.JupyterRenderable at 0x12255add8>"
      ]
     },
     "metadata": {},
     "output_type": "display_data"
    }
   ],
   "source": [
    "ws.backfill('D')"
   ]
  },
  {
   "cell_type": "markdown",
   "metadata": {},
   "source": [
    "---\n",
    "Suppose we want to regenerate the products of `C` with different parameter values.\n",
    "We can do this using `build` and passing in keyword arguments that correspond to parameter names.\n",
    "In this case, `C` has a parameter called `message`."
   ]
  },
  {
   "cell_type": "code",
   "execution_count": 20,
   "metadata": {
    "scrolled": true
   },
   "outputs": [
    {
     "data": {
      "text/html": [
       "<pre style=\"white-space:pre;overflow-x:auto;line-height:normal;font-family:Menlo,'DejaVu Sans Mono',consolas,'Courier New',monospace\">\n",
       "\n",
       "Building pipe <span style=\"font-weight: bold\">example.A</span>\n",
       "</pre>\n"
      ],
      "text/plain": [
       "<rich.jupyter.JupyterRenderable at 0x1226529b0>"
      ]
     },
     "metadata": {},
     "output_type": "display_data"
    },
    {
     "data": {
      "text/html": [
       "<pre style=\"white-space:pre;overflow-x:auto;line-height:normal;font-family:Menlo,'DejaVu Sans Mono',consolas,'Courier New',monospace\"><span style=\"font-weight: bold\">-------------------------------------------</span>\n",
       "</pre>\n"
      ],
      "text/plain": [
       "<rich.jupyter.JupyterRenderable at 0x1226529b0>"
      ]
     },
     "metadata": {},
     "output_type": "display_data"
    },
    {
     "name": "stderr",
     "output_type": "stream",
     "text": [
      "/Users/jwhelland/Documents/work/repos/warp/warp/workspace.py:436: UserWarning: overriding parameter `message` config value `text_yaml` with user-specified value `new message`\n",
      "  p, self.configs[pipe_name][p], parameters[p]))\n"
     ]
    },
    {
     "data": {
      "text/html": [
       "<pre style=\"white-space:pre;overflow-x:auto;line-height:normal;font-family:Menlo,'DejaVu Sans Mono',consolas,'Courier New',monospace\"><span style=\"font-weight: bold\">-------------------------------------------</span>\n",
       "</pre>\n"
      ],
      "text/plain": [
       "<rich.jupyter.JupyterRenderable at 0x12255add8>"
      ]
     },
     "metadata": {},
     "output_type": "display_data"
    },
    {
     "data": {
      "text/html": [
       "<pre style=\"white-space:pre;overflow-x:auto;line-height:normal;font-family:Menlo,'DejaVu Sans Mono',consolas,'Courier New',monospace\"><span style=\"color: #008000; font-weight: bold\">Succeeded</span> | Elapsed time: <span style=\"color: #000080; font-weight: bold\">0.0173</span><span style=\"font-weight: bold\">(</span>s<span style=\"font-weight: bold\">)</span>\n",
       "</pre>\n"
      ],
      "text/plain": [
       "<rich.jupyter.JupyterRenderable at 0x12255add8>"
      ]
     },
     "metadata": {},
     "output_type": "display_data"
    }
   ],
   "source": [
    "ws.build('A', message='new message')"
   ]
  },
  {
   "cell_type": "markdown",
   "metadata": {},
   "source": [
    "If we try to build `D`, WARP will detect that the graph is now out-of-sync and will throw an error.\n",
    "The methodology of WARP is to put hard stops in place to prevent bugs that arise from using out-of-sync data.\n",
    "\n",
    "For dev purposes, you can force a pipe to run by passing the flag `force_build=True`.\n",
    "You probably shouldn't do this."
   ]
  },
  {
   "cell_type": "code",
   "execution_count": 21,
   "metadata": {},
   "outputs": [
    {
     "data": {
      "text/html": [
       "<pre style=\"white-space:pre;overflow-x:auto;line-height:normal;font-family:Menlo,'DejaVu Sans Mono',consolas,'Courier New',monospace\">\n",
       "\n",
       "Building pipe <span style=\"font-weight: bold\">example.D</span>\n",
       "</pre>\n"
      ],
      "text/plain": [
       "<rich.jupyter.JupyterRenderable at 0x1226522e8>"
      ]
     },
     "metadata": {},
     "output_type": "display_data"
    },
    {
     "data": {
      "text/html": [
       "<pre style=\"white-space:pre;overflow-x:auto;line-height:normal;font-family:Menlo,'DejaVu Sans Mono',consolas,'Courier New',monospace\"><span style=\"font-weight: bold\">-------------------------------------------</span>\n",
       "</pre>\n"
      ],
      "text/plain": [
       "<rich.jupyter.JupyterRenderable at 0x122652e10>"
      ]
     },
     "metadata": {},
     "output_type": "display_data"
    },
    {
     "data": {
      "text/html": [
       "<pre style=\"white-space:pre;overflow-x:auto;line-height:normal;font-family:Menlo,'DejaVu Sans Mono',consolas,'Courier New',monospace\"><span style=\"color: #800000; font-weight: bold\">ERROR:</span> Ancestral pipe<span style=\"font-weight: bold\">(</span>s<span style=\"font-weight: bold\">)</span> built more recently than descendents:\n",
       "</pre>\n"
      ],
      "text/plain": [
       "<rich.jupyter.JupyterRenderable at 0x122652cf8>"
      ]
     },
     "metadata": {},
     "output_type": "display_data"
    },
    {
     "data": {
      "text/html": [
       "<pre style=\"white-space:pre;overflow-x:auto;line-height:normal;font-family:Menlo,'DejaVu Sans Mono',consolas,'Courier New',monospace\">        example.A\n",
       "</pre>\n"
      ],
      "text/plain": [
       "<rich.jupyter.JupyterRenderable at 0x122652e10>"
      ]
     },
     "metadata": {},
     "output_type": "display_data"
    },
    {
     "data": {
      "text/html": [
       "<pre style=\"white-space:pre;overflow-x:auto;line-height:normal;font-family:Menlo,'DejaVu Sans Mono',consolas,'Courier New',monospace\"><span style=\"color: #800080; font-weight: bold\">HINT:</span> run `backfill<span style=\"font-weight: bold\">(</span><span style=\"color: #008000\">'example.D'</span><span style=\"font-weight: bold\">)</span>`\n",
       "</pre>\n"
      ],
      "text/plain": [
       "<rich.jupyter.JupyterRenderable at 0x122652c50>"
      ]
     },
     "metadata": {},
     "output_type": "display_data"
    },
    {
     "data": {
      "text/html": [
       "<pre style=\"white-space:pre;overflow-x:auto;line-height:normal;font-family:Menlo,'DejaVu Sans Mono',consolas,'Courier New',monospace\"><span style=\"font-weight: bold\">-------------------------------------------</span>\n",
       "</pre>\n"
      ],
      "text/plain": [
       "<rich.jupyter.JupyterRenderable at 0x1226522e8>"
      ]
     },
     "metadata": {},
     "output_type": "display_data"
    },
    {
     "data": {
      "text/html": [
       "<pre style=\"white-space:pre;overflow-x:auto;line-height:normal;font-family:Menlo,'DejaVu Sans Mono',consolas,'Courier New',monospace\"><span style=\"color: #800000; font-weight: bold\">Failed</span> with exception: RuntimeError<span style=\"font-weight: bold\">(</span><span style=\"color: #008000\">'Ancestral pipe(s) built more recently than </span>\n",
       "<span style=\"color: #008000\">descendents.'</span><span style=\"font-weight: bold\">)</span>\n",
       "</pre>\n"
      ],
      "text/plain": [
       "<rich.jupyter.JupyterRenderable at 0x122652c50>"
      ]
     },
     "metadata": {},
     "output_type": "display_data"
    }
   ],
   "source": [
    "ws.build('D')"
   ]
  },
  {
   "cell_type": "markdown",
   "metadata": {},
   "source": [
    "Per the hint, we can resync the graph via `backfill`."
   ]
  },
  {
   "cell_type": "code",
   "execution_count": 22,
   "metadata": {},
   "outputs": [
    {
     "data": {
      "text/html": [
       "<pre style=\"white-space:pre;overflow-x:auto;line-height:normal;font-family:Menlo,'DejaVu Sans Mono',consolas,'Courier New',monospace\"><span style=\"font-weight: bold\">Build trajectory:</span>  <span style=\"color: #808000; font-weight: bold\">example.C</span> <span style=\"font-weight: bold\">-&gt;</span> <span style=\"color: #808000; font-weight: bold\">example.D</span>\n",
       "</pre>\n"
      ],
      "text/plain": [
       "<rich.jupyter.JupyterRenderable at 0x1226c1940>"
      ]
     },
     "metadata": {},
     "output_type": "display_data"
    },
    {
     "data": {
      "text/html": [
       "<pre style=\"white-space:pre;overflow-x:auto;line-height:normal;font-family:Menlo,'DejaVu Sans Mono',consolas,'Courier New',monospace\">\n",
       "\n",
       "Building pipe <span style=\"font-weight: bold\">example.C</span>\n",
       "</pre>\n"
      ],
      "text/plain": [
       "<rich.jupyter.JupyterRenderable at 0x1226c1940>"
      ]
     },
     "metadata": {},
     "output_type": "display_data"
    },
    {
     "data": {
      "text/html": [
       "<pre style=\"white-space:pre;overflow-x:auto;line-height:normal;font-family:Menlo,'DejaVu Sans Mono',consolas,'Courier New',monospace\"><span style=\"font-weight: bold\">-------------------------------------------</span>\n",
       "</pre>\n"
      ],
      "text/plain": [
       "<rich.jupyter.JupyterRenderable at 0x1226c19e8>"
      ]
     },
     "metadata": {},
     "output_type": "display_data"
    },
    {
     "name": "stdout",
     "output_type": "stream",
     "text": [
      "main() in /Users/jwhelland/Documents/work/repos/warp/example/example/C.py\n"
     ]
    },
    {
     "data": {
      "text/html": [
       "<pre style=\"white-space:pre;overflow-x:auto;line-height:normal;font-family:Menlo,'DejaVu Sans Mono',consolas,'Courier New',monospace\"><span style=\"font-weight: bold\">-------------------------------------------</span>\n",
       "</pre>\n"
      ],
      "text/plain": [
       "<rich.jupyter.JupyterRenderable at 0x1226cc438>"
      ]
     },
     "metadata": {},
     "output_type": "display_data"
    },
    {
     "data": {
      "text/html": [
       "<pre style=\"white-space:pre;overflow-x:auto;line-height:normal;font-family:Menlo,'DejaVu Sans Mono',consolas,'Courier New',monospace\"><span style=\"color: #008000; font-weight: bold\">Succeeded</span> | Elapsed time: <span style=\"color: #000080; font-weight: bold\">0.0154</span><span style=\"font-weight: bold\">(</span>s<span style=\"font-weight: bold\">)</span>\n",
       "</pre>\n"
      ],
      "text/plain": [
       "<rich.jupyter.JupyterRenderable at 0x1226cc2b0>"
      ]
     },
     "metadata": {},
     "output_type": "display_data"
    },
    {
     "data": {
      "text/html": [
       "<pre style=\"white-space:pre;overflow-x:auto;line-height:normal;font-family:Menlo,'DejaVu Sans Mono',consolas,'Courier New',monospace\">\n",
       "\n",
       "Building pipe <span style=\"font-weight: bold\">example.D</span>\n",
       "</pre>\n"
      ],
      "text/plain": [
       "<rich.jupyter.JupyterRenderable at 0x1226cc518>"
      ]
     },
     "metadata": {},
     "output_type": "display_data"
    },
    {
     "data": {
      "text/html": [
       "<pre style=\"white-space:pre;overflow-x:auto;line-height:normal;font-family:Menlo,'DejaVu Sans Mono',consolas,'Courier New',monospace\"><span style=\"font-weight: bold\">-------------------------------------------</span>\n",
       "</pre>\n"
      ],
      "text/plain": [
       "<rich.jupyter.JupyterRenderable at 0x1226cc5f8>"
      ]
     },
     "metadata": {},
     "output_type": "display_data"
    },
    {
     "data": {
      "text/html": [
       "<pre style=\"white-space:pre;overflow-x:auto;line-height:normal;font-family:Menlo,'DejaVu Sans Mono',consolas,'Courier New',monospace\"><span style=\"font-weight: bold\">-------------------------------------------</span>\n",
       "</pre>\n"
      ],
      "text/plain": [
       "<rich.jupyter.JupyterRenderable at 0x1226c1ac8>"
      ]
     },
     "metadata": {},
     "output_type": "display_data"
    },
    {
     "data": {
      "text/html": [
       "<pre style=\"white-space:pre;overflow-x:auto;line-height:normal;font-family:Menlo,'DejaVu Sans Mono',consolas,'Courier New',monospace\"><span style=\"color: #008000; font-weight: bold\">Succeeded</span> | Elapsed time: <span style=\"color: #000080; font-weight: bold\">0.0002</span><span style=\"font-weight: bold\">(</span>s<span style=\"font-weight: bold\">)</span>\n",
       "</pre>\n"
      ],
      "text/plain": [
       "<rich.jupyter.JupyterRenderable at 0x1226c1ac8>"
      ]
     },
     "metadata": {},
     "output_type": "display_data"
    }
   ],
   "source": [
    "ws.backfill('D')"
   ]
  },
  {
   "cell_type": "markdown",
   "metadata": {},
   "source": [
    "# Loading a session\n",
    "\n",
    "You can inspect sessions"
   ]
  },
  {
   "cell_type": "code",
   "execution_count": 23,
   "metadata": {},
   "outputs": [
    {
     "data": {
      "text/html": [
       "<pre style=\"white-space:pre;overflow-x:auto;line-height:normal;font-family:Menlo,'DejaVu Sans Mono',consolas,'Courier New',monospace\">Attempting to load session id <span style=\"color: #000080; font-weight: bold\">0</span>\n",
       "</pre>\n"
      ],
      "text/plain": [
       "<rich.jupyter.JupyterRenderable at 0x11f7cf128>"
      ]
     },
     "metadata": {},
     "output_type": "display_data"
    },
    {
     "data": {
      "text/html": [
       "<pre style=\"white-space:pre;overflow-x:auto;line-height:normal;font-family:Menlo,'DejaVu Sans Mono',consolas,'Courier New',monospace\">Load succeeded\n",
       "</pre>\n"
      ],
      "text/plain": [
       "<rich.jupyter.JupyterRenderable at 0x10ddc2c50>"
      ]
     },
     "metadata": {},
     "output_type": "display_data"
    }
   ],
   "source": [
    "ws.load_session(0)"
   ]
  },
  {
   "cell_type": "markdown",
   "metadata": {},
   "source": [
    "You can inspect metadata associated with a pipe in the session using `view`\n",
    "- **pipe cache directory** is the relative path to where the specified pipe's metadata and logs are cached\n",
    "- **Commit hash** is the hash of the git commit of the code that was used to run the pipe\n",
    "- **Last build** is a timestamp of when a pipe build was last initiated\n",
    "- **Elapsed time** is the number of seconds the last pipe build took to complete\n",
    "- **Parameters** shows the parameter values that were used in the last pipe build"
   ]
  },
  {
   "cell_type": "code",
   "execution_count": 24,
   "metadata": {},
   "outputs": [
    {
     "data": {
      "text/html": [
       "<pre style=\"white-space:pre;overflow-x:auto;line-height:normal;font-family:Menlo,'DejaVu Sans Mono',consolas,'Courier New',monospace\">Session <span style=\"color: #000080; font-weight: bold\">0</span> | pipe <span style=\"font-weight: bold\">example.A</span>\n",
       "</pre>\n"
      ],
      "text/plain": [
       "<rich.jupyter.JupyterRenderable at 0x122652be0>"
      ]
     },
     "metadata": {},
     "output_type": "display_data"
    },
    {
     "data": {
      "text/html": [
       "<pre style=\"white-space:pre;overflow-x:auto;line-height:normal;font-family:Menlo,'DejaVu Sans Mono',consolas,'Courier New',monospace\">----------------------------\n",
       "</pre>\n"
      ],
      "text/plain": [
       "<rich.jupyter.JupyterRenderable at 0x122652be0>"
      ]
     },
     "metadata": {},
     "output_type": "display_data"
    },
    {
     "data": {
      "text/html": [
       "<pre style=\"white-space:pre;overflow-x:auto;line-height:normal;font-family:Menlo,'DejaVu Sans Mono',consolas,'Courier New',monospace\"><span style=\"font-weight: bold\">Lineage:</span>                             <span style=\"color: #008000; font-weight: bold\">__source__</span> <span style=\"font-weight: bold\">-&gt;</span> <span style=\"color: #008000; font-weight: bold\">example.A</span>\n",
       "</pre>\n"
      ],
      "text/plain": [
       "<rich.jupyter.JupyterRenderable at 0x11e82de80>"
      ]
     },
     "metadata": {},
     "output_type": "display_data"
    },
    {
     "data": {
      "text/html": [
       "<pre style=\"white-space:pre;overflow-x:auto;line-height:normal;font-family:Menlo,'DejaVu Sans Mono',consolas,'Courier New',monospace\"><span style=\"font-weight: bold\">Pipe cache directory:</span>                .warp<span style=\"color: #800080\">/</span><span style=\"color: #800080; font-weight: bold\">0</span><span style=\"color: #800080\">/</span>d623c910c2fa6686e366162cfdff841531e8ac32\n",
       "</pre>\n"
      ],
      "text/plain": [
       "<rich.jupyter.JupyterRenderable at 0x11e82de80>"
      ]
     },
     "metadata": {},
     "output_type": "display_data"
    },
    {
     "data": {
      "text/html": [
       "<pre style=\"white-space:pre;overflow-x:auto;line-height:normal;font-family:Menlo,'DejaVu Sans Mono',consolas,'Courier New',monospace\"><span style=\"font-weight: bold\">Commit hash:</span>                         cea477c9ddd9394d5001c321e7b1448b10a89205\n",
       "</pre>\n"
      ],
      "text/plain": [
       "<rich.jupyter.JupyterRenderable at 0x11e6aa198>"
      ]
     },
     "metadata": {},
     "output_type": "display_data"
    },
    {
     "data": {
      "text/html": [
       "<pre style=\"white-space:pre;overflow-x:auto;line-height:normal;font-family:Menlo,'DejaVu Sans Mono',consolas,'Courier New',monospace\"><span style=\"font-weight: bold\">Last build:</span>                          <span style=\"color: #000080; font-weight: bold\">2020</span>-<span style=\"color: #000080; font-weight: bold\">06</span>-<span style=\"color: #000080; font-weight: bold\">19</span> <span style=\"color: #000080; font-weight: bold\">17</span>:<span style=\"color: #000080; font-weight: bold\">13</span>:<span style=\"color: #000080; font-weight: bold\">07.652625</span>\n",
       "</pre>\n"
      ],
      "text/plain": [
       "<rich.jupyter.JupyterRenderable at 0x120125d68>"
      ]
     },
     "metadata": {},
     "output_type": "display_data"
    },
    {
     "data": {
      "text/html": [
       "<pre style=\"white-space:pre;overflow-x:auto;line-height:normal;font-family:Menlo,'DejaVu Sans Mono',consolas,'Courier New',monospace\"><span style=\"font-weight: bold\">Elapsed time:</span>                        <span style=\"color: #000080; font-weight: bold\">0.017262</span><span style=\"font-weight: bold\">(</span>s<span style=\"font-weight: bold\">)</span>\n",
       "</pre>\n"
      ],
      "text/plain": [
       "<rich.jupyter.JupyterRenderable at 0x120125d68>"
      ]
     },
     "metadata": {},
     "output_type": "display_data"
    },
    {
     "data": {
      "text/html": [
       "<pre style=\"white-space:pre;overflow-x:auto;line-height:normal;font-family:Menlo,'DejaVu Sans Mono',consolas,'Courier New',monospace\"><span style=\"font-weight: bold\">Parameters:</span>                          <span style=\"font-weight: bold\">{</span><span style=\"color: #008000\">'message'</span>: <span style=\"color: #008000\">'new message'</span><span style=\"font-weight: bold\">}</span>\n",
       "</pre>\n"
      ],
      "text/plain": [
       "<rich.jupyter.JupyterRenderable at 0x120125d68>"
      ]
     },
     "metadata": {},
     "output_type": "display_data"
    }
   ],
   "source": [
    "ws.status('A')"
   ]
  },
  {
   "cell_type": "code",
   "execution_count": null,
   "metadata": {},
   "outputs": [],
   "source": []
  }
 ],
 "metadata": {
  "kernelspec": {
   "display_name": "warp",
   "language": "python",
   "name": "warp"
  },
  "language_info": {
   "codemirror_mode": {
    "name": "ipython",
    "version": 3
   },
   "file_extension": ".py",
   "mimetype": "text/x-python",
   "name": "python",
   "nbconvert_exporter": "python",
   "pygments_lexer": "ipython3",
   "version": "3.7.3"
  },
  "pycharm": {
   "stem_cell": {
    "cell_type": "raw",
    "metadata": {
     "collapsed": false
    },
    "source": []
   }
  }
 },
 "nbformat": 4,
 "nbformat_minor": 2
}
